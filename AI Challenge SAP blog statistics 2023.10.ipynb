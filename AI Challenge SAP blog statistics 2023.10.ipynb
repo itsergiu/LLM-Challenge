{
 "cells": [
  {
   "cell_type": "markdown",
   "id": "8cb01b28",
   "metadata": {},
   "source": [
    "Blog: https://blogs.sap.com/2023/10/23/ai-challenge-web-scraping-with-generative-ai/</br>\n",
    "Online app: https://gen-ai-challenge-web-data-extraction.streamlit.app/ </br>\n",
    "Statistics for https://blogs.sap.com/ | comments, likes and views</br>\n",
    "Created by: Sergiu Iatco | October, 2023 </br>\n",
    "https://www.linkedin.com/in/sergiuiatco/ </br>"
   ]
  },
  {
   "cell_type": "code",
   "execution_count": 1,
   "id": "e8260d86",
   "metadata": {},
   "outputs": [],
   "source": [
    "from sap_blog_statistics import SapBlogStatistics\n",
    "import pandas as pd"
   ]
  },
  {
   "cell_type": "code",
   "execution_count": 2,
   "id": "105eb71c",
   "metadata": {},
   "outputs": [],
   "source": [
    "bls = SapBlogStatistics('sap_blog_url_hana_ml_challenge_202211.csv')"
   ]
  },
  {
   "cell_type": "code",
   "execution_count": 3,
   "id": "0df67ea9",
   "metadata": {},
   "outputs": [],
   "source": [
    "bls.df_file"
   ]
  },
  {
   "cell_type": "code",
   "execution_count": 4,
   "id": "a9ce501c",
   "metadata": {},
   "outputs": [],
   "source": [
    "%%time\n",
    "bls.mt_iter_file()"
   ]
  },
  {
   "cell_type": "code",
   "execution_count": 5,
   "id": "71606f5e",
   "metadata": {},
   "outputs": [],
   "source": [
    "bls.df_results.dtypes"
   ]
  },
  {
   "cell_type": "code",
   "execution_count": 6,
   "id": "52fbb0b2",
   "metadata": {},
   "outputs": [],
   "source": [
    "bls.df_results"
   ]
  },
  {
   "cell_type": "code",
   "execution_count": 7,
   "id": "2440c555",
   "metadata": {},
   "outputs": [],
   "source": [
    "bls.mt_rename_cols(['url', 'OK', 'comments','likes','views'])"
   ]
  },
  {
   "cell_type": "code",
   "execution_count": 8,
   "id": "f2cd910c",
   "metadata": {},
   "outputs": [],
   "source": [
    "pd.set_option('display.max_colwidth', None)\n",
    "bls.df_results"
   ]
  },
  {
   "cell_type": "code",
   "execution_count": 9,
   "id": "237e839f",
   "metadata": {},
   "outputs": [],
   "source": [
    "bls.df_results.dtypes"
   ]
  },
  {
   "cell_type": "code",
   "execution_count": 10,
   "id": "73d57799",
   "metadata": {},
   "outputs": [],
   "source": [
    "bls.mt_convert_cols_to_int(['comments','likes','views'])"
   ]
  },
  {
   "cell_type": "code",
   "execution_count": 11,
   "id": "ba95163e",
   "metadata": {},
   "outputs": [],
   "source": [
    "bls.df_results"
   ]
  },
  {
   "cell_type": "code",
   "execution_count": 12,
   "id": "54057f44",
   "metadata": {},
   "outputs": [],
   "source": [
    "bls.df_results.dtypes"
   ]
  },
  {
   "cell_type": "code",
   "execution_count": 13,
   "id": "25518833",
   "metadata": {},
   "outputs": [],
   "source": [
    "ok_dict = bls.mt_calculate_totals()\n",
    "ok_dict"
   ]
  },
  {
   "cell_type": "code",
   "execution_count": 14,
   "id": "5556429e",
   "metadata": {},
   "outputs": [],
   "source": [
    "ok_dict['df_ok_sum']"
   ]
  },
  {
   "cell_type": "code",
   "execution_count": 15,
   "id": "3f2b7728",
   "metadata": {},
   "outputs": [],
   "source": [
    "ok_dict['df_ok_count']"
   ]
  }
 ],
 "metadata": {
  "kernelspec": {
   "display_name": "Python 3 (ipykernel)",
   "language": "python",
   "name": "python3"
  },
  "language_info": {
   "codemirror_mode": {
    "name": "ipython",
    "version": 3
   },
   "file_extension": ".py",
   "mimetype": "text/x-python",
   "name": "python",
   "nbconvert_exporter": "python",
   "pygments_lexer": "ipython3",
   "version": "3.8.17"
  }
 },
 "nbformat": 4,
 "nbformat_minor": 5
}
