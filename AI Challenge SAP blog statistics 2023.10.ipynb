{
 "cells": [
  {
   "cell_type": "markdown",
   "id": "8cb01b28",
   "metadata": {},
   "source": [
    "Blog: </br>\n",
    "Online app:  </br>\n",
    "Statistics for https://blogs.sap.com/ | comments, likes and views</br>\n",
    "Created by: Sergiu Iatco | October, 2023 </br>\n",
    "https://www.linkedin.com/in/sergiuiatco/ </br>"
   ]
  },
  {
   "cell_type": "code",
   "execution_count": 1,
   "id": "e8260d86",
   "metadata": {},
   "outputs": [],
   "source": [
    "from sap_blog_statistics import SapBlogStatistics\n",
    "import pandas as pd"
   ]
  },
  {
   "cell_type": "code",
   "execution_count": 2,
   "id": "105eb71c",
   "metadata": {},
   "outputs": [],
   "source": [
    "bls = SapBlogStatistics('sap_blog_url_hana_ml_challenge_202211.csv')"
   ]
  },
  {
   "cell_type": "code",
   "execution_count": 3,
   "id": "0df67ea9",
   "metadata": {},
   "outputs": [
    {
     "data": {
      "text/html": [
       "<div>\n",
       "<style scoped>\n",
       "    .dataframe tbody tr th:only-of-type {\n",
       "        vertical-align: middle;\n",
       "    }\n",
       "\n",
       "    .dataframe tbody tr th {\n",
       "        vertical-align: top;\n",
       "    }\n",
       "\n",
       "    .dataframe thead th {\n",
       "        text-align: right;\n",
       "    }\n",
       "</style>\n",
       "<table border=\"1\" class=\"dataframe\">\n",
       "  <thead>\n",
       "    <tr style=\"text-align: right;\">\n",
       "      <th></th>\n",
       "      <th>url</th>\n",
       "    </tr>\n",
       "  </thead>\n",
       "  <tbody>\n",
       "    <tr>\n",
       "      <th>0</th>\n",
       "      <td>https://blogs.sap.com/2022/11/07/sap-community...</td>\n",
       "    </tr>\n",
       "    <tr>\n",
       "      <th>1</th>\n",
       "      <td>https://blogs.sap.com/2022/12/22/sap-hana-clou...</td>\n",
       "    </tr>\n",
       "    <tr>\n",
       "      <th>2</th>\n",
       "      <td>https://blogs.sap.com/2023/01/09/sap-hana-clou...</td>\n",
       "    </tr>\n",
       "    <tr>\n",
       "      <th>3</th>\n",
       "      <td>https://blogs.sap.com/2023/02/12/could-machine...</td>\n",
       "    </tr>\n",
       "    <tr>\n",
       "      <th>4</th>\n",
       "      <td>https://blogs.sap.com/2023/04/19/hello-world-y...</td>\n",
       "    </tr>\n",
       "    <tr>\n",
       "      <th>5</th>\n",
       "      <td>https://blogs.sap.com/2023/05/25/sap-machine-l...</td>\n",
       "    </tr>\n",
       "    <tr>\n",
       "      <th>6</th>\n",
       "      <td>https://blogs.sap.com/2023/07/14/building-trus...</td>\n",
       "    </tr>\n",
       "  </tbody>\n",
       "</table>\n",
       "</div>"
      ],
      "text/plain": [
       "                                                 url\n",
       "0  https://blogs.sap.com/2022/11/07/sap-community...\n",
       "1  https://blogs.sap.com/2022/12/22/sap-hana-clou...\n",
       "2  https://blogs.sap.com/2023/01/09/sap-hana-clou...\n",
       "3  https://blogs.sap.com/2023/02/12/could-machine...\n",
       "4  https://blogs.sap.com/2023/04/19/hello-world-y...\n",
       "5  https://blogs.sap.com/2023/05/25/sap-machine-l...\n",
       "6  https://blogs.sap.com/2023/07/14/building-trus..."
      ]
     },
     "execution_count": 3,
     "metadata": {},
     "output_type": "execute_result"
    }
   ],
   "source": [
    "bls.df_file"
   ]
  },
  {
   "cell_type": "code",
   "execution_count": 4,
   "id": "a9ce501c",
   "metadata": {},
   "outputs": [
    {
     "name": "stdout",
     "output_type": "stream",
     "text": [
      "CPU times: total: 844 ms\n",
      "Wall time: 2.91 s\n"
     ]
    }
   ],
   "source": [
    "%%time\n",
    "bls.mt_iter_file()"
   ]
  },
  {
   "cell_type": "code",
   "execution_count": 5,
   "id": "71606f5e",
   "metadata": {},
   "outputs": [
    {
     "data": {
      "text/plain": [
       "url                       object\n",
       "OK                        object\n",
       "ds-icon--comments         object\n",
       "ds-icon--likes-outline    object\n",
       "ds-icon--views            object\n",
       "dtype: object"
      ]
     },
     "execution_count": 5,
     "metadata": {},
     "output_type": "execute_result"
    }
   ],
   "source": [
    "bls.df_results.dtypes"
   ]
  },
  {
   "cell_type": "code",
   "execution_count": 6,
   "id": "52fbb0b2",
   "metadata": {},
   "outputs": [
    {
     "data": {
      "text/html": [
       "<div>\n",
       "<style scoped>\n",
       "    .dataframe tbody tr th:only-of-type {\n",
       "        vertical-align: middle;\n",
       "    }\n",
       "\n",
       "    .dataframe tbody tr th {\n",
       "        vertical-align: top;\n",
       "    }\n",
       "\n",
       "    .dataframe thead th {\n",
       "        text-align: right;\n",
       "    }\n",
       "</style>\n",
       "<table border=\"1\" class=\"dataframe\">\n",
       "  <thead>\n",
       "    <tr style=\"text-align: right;\">\n",
       "      <th></th>\n",
       "      <th>url</th>\n",
       "      <th>OK</th>\n",
       "      <th>ds-icon--comments</th>\n",
       "      <th>ds-icon--likes-outline</th>\n",
       "      <th>ds-icon--views</th>\n",
       "    </tr>\n",
       "  </thead>\n",
       "  <tbody>\n",
       "    <tr>\n",
       "      <th>0</th>\n",
       "      <td>https://blogs.sap.com/2022/11/07/sap-community...</td>\n",
       "      <td>Y</td>\n",
       "      <td>8</td>\n",
       "      <td>24</td>\n",
       "      <td>1,008</td>\n",
       "    </tr>\n",
       "    <tr>\n",
       "      <th>1</th>\n",
       "      <td>https://blogs.sap.com/2022/12/22/sap-hana-clou...</td>\n",
       "      <td>Y</td>\n",
       "      <td>1</td>\n",
       "      <td>7</td>\n",
       "      <td>746</td>\n",
       "    </tr>\n",
       "    <tr>\n",
       "      <th>2</th>\n",
       "      <td>https://blogs.sap.com/2023/01/09/sap-hana-clou...</td>\n",
       "      <td>Y</td>\n",
       "      <td>4</td>\n",
       "      <td>13</td>\n",
       "      <td>1,733</td>\n",
       "    </tr>\n",
       "    <tr>\n",
       "      <th>3</th>\n",
       "      <td>https://blogs.sap.com/2023/02/12/could-machine...</td>\n",
       "      <td>Y</td>\n",
       "      <td>0</td>\n",
       "      <td>3</td>\n",
       "      <td>679</td>\n",
       "    </tr>\n",
       "    <tr>\n",
       "      <th>4</th>\n",
       "      <td>https://blogs.sap.com/2023/04/19/hello-world-y...</td>\n",
       "      <td>Y</td>\n",
       "      <td>7</td>\n",
       "      <td>5</td>\n",
       "      <td>1,796</td>\n",
       "    </tr>\n",
       "    <tr>\n",
       "      <th>5</th>\n",
       "      <td>https://blogs.sap.com/2023/05/25/sap-machine-l...</td>\n",
       "      <td>Y</td>\n",
       "      <td>7</td>\n",
       "      <td>5</td>\n",
       "      <td>1,468</td>\n",
       "    </tr>\n",
       "    <tr>\n",
       "      <th>6</th>\n",
       "      <td>https://blogs.sap.com/2023/07/14/building-trus...</td>\n",
       "      <td>Y</td>\n",
       "      <td>0</td>\n",
       "      <td>5</td>\n",
       "      <td>1,258</td>\n",
       "    </tr>\n",
       "  </tbody>\n",
       "</table>\n",
       "</div>"
      ],
      "text/plain": [
       "                                                 url OK ds-icon--comments  \\\n",
       "0  https://blogs.sap.com/2022/11/07/sap-community...  Y                 8   \n",
       "1  https://blogs.sap.com/2022/12/22/sap-hana-clou...  Y                 1   \n",
       "2  https://blogs.sap.com/2023/01/09/sap-hana-clou...  Y                 4   \n",
       "3  https://blogs.sap.com/2023/02/12/could-machine...  Y                 0   \n",
       "4  https://blogs.sap.com/2023/04/19/hello-world-y...  Y                 7   \n",
       "5  https://blogs.sap.com/2023/05/25/sap-machine-l...  Y                 7   \n",
       "6  https://blogs.sap.com/2023/07/14/building-trus...  Y                 0   \n",
       "\n",
       "  ds-icon--likes-outline ds-icon--views  \n",
       "0                     24          1,008  \n",
       "1                      7            746  \n",
       "2                     13          1,733  \n",
       "3                      3            679  \n",
       "4                      5          1,796  \n",
       "5                      5          1,468  \n",
       "6                      5          1,258  "
      ]
     },
     "execution_count": 6,
     "metadata": {},
     "output_type": "execute_result"
    }
   ],
   "source": [
    "bls.df_results"
   ]
  },
  {
   "cell_type": "code",
   "execution_count": 7,
   "id": "2440c555",
   "metadata": {},
   "outputs": [],
   "source": [
    "bls.mt_rename_cols(['url', 'OK', 'comments','likes','views'])"
   ]
  },
  {
   "cell_type": "code",
   "execution_count": 8,
   "id": "f2cd910c",
   "metadata": {},
   "outputs": [
    {
     "data": {
      "text/html": [
       "<div>\n",
       "<style scoped>\n",
       "    .dataframe tbody tr th:only-of-type {\n",
       "        vertical-align: middle;\n",
       "    }\n",
       "\n",
       "    .dataframe tbody tr th {\n",
       "        vertical-align: top;\n",
       "    }\n",
       "\n",
       "    .dataframe thead th {\n",
       "        text-align: right;\n",
       "    }\n",
       "</style>\n",
       "<table border=\"1\" class=\"dataframe\">\n",
       "  <thead>\n",
       "    <tr style=\"text-align: right;\">\n",
       "      <th></th>\n",
       "      <th>url</th>\n",
       "      <th>OK</th>\n",
       "      <th>comments</th>\n",
       "      <th>likes</th>\n",
       "      <th>views</th>\n",
       "    </tr>\n",
       "  </thead>\n",
       "  <tbody>\n",
       "    <tr>\n",
       "      <th>0</th>\n",
       "      <td>https://blogs.sap.com/2022/11/07/sap-community-call-sap-hana-cloud-machine-learning-challenge-i-quit-how-to-prevent-employee-churn/</td>\n",
       "      <td>Y</td>\n",
       "      <td>8</td>\n",
       "      <td>24</td>\n",
       "      <td>1,008</td>\n",
       "    </tr>\n",
       "    <tr>\n",
       "      <th>1</th>\n",
       "      <td>https://blogs.sap.com/2022/12/22/sap-hana-cloud-machine-learning-challenge-2022-the-winners-are/</td>\n",
       "      <td>Y</td>\n",
       "      <td>1</td>\n",
       "      <td>7</td>\n",
       "      <td>746</td>\n",
       "    </tr>\n",
       "    <tr>\n",
       "      <th>2</th>\n",
       "      <td>https://blogs.sap.com/2023/01/09/sap-hana-cloud-machine-learning-challenge-i-quit-understanding-metrics/</td>\n",
       "      <td>Y</td>\n",
       "      <td>4</td>\n",
       "      <td>13</td>\n",
       "      <td>1,733</td>\n",
       "    </tr>\n",
       "    <tr>\n",
       "      <th>3</th>\n",
       "      <td>https://blogs.sap.com/2023/02/12/could-machine-learning-build-a-model-for-prime-numbers/</td>\n",
       "      <td>Y</td>\n",
       "      <td>0</td>\n",
       "      <td>3</td>\n",
       "      <td>679</td>\n",
       "    </tr>\n",
       "    <tr>\n",
       "      <th>4</th>\n",
       "      <td>https://blogs.sap.com/2023/04/19/hello-world-your-crafted-chat-gpt-bot/</td>\n",
       "      <td>Y</td>\n",
       "      <td>7</td>\n",
       "      <td>5</td>\n",
       "      <td>1,796</td>\n",
       "    </tr>\n",
       "    <tr>\n",
       "      <th>5</th>\n",
       "      <td>https://blogs.sap.com/2023/05/25/sap-machine-learning-embedding-in-openai/</td>\n",
       "      <td>Y</td>\n",
       "      <td>7</td>\n",
       "      <td>5</td>\n",
       "      <td>1,468</td>\n",
       "    </tr>\n",
       "    <tr>\n",
       "      <th>6</th>\n",
       "      <td>https://blogs.sap.com/2023/07/14/building-trust-in-ai-youtube-transcript-openai-assistant/</td>\n",
       "      <td>Y</td>\n",
       "      <td>0</td>\n",
       "      <td>5</td>\n",
       "      <td>1,258</td>\n",
       "    </tr>\n",
       "  </tbody>\n",
       "</table>\n",
       "</div>"
      ],
      "text/plain": [
       "                                                                                                                                   url  \\\n",
       "0  https://blogs.sap.com/2022/11/07/sap-community-call-sap-hana-cloud-machine-learning-challenge-i-quit-how-to-prevent-employee-churn/   \n",
       "1                                     https://blogs.sap.com/2022/12/22/sap-hana-cloud-machine-learning-challenge-2022-the-winners-are/   \n",
       "2                             https://blogs.sap.com/2023/01/09/sap-hana-cloud-machine-learning-challenge-i-quit-understanding-metrics/   \n",
       "3                                             https://blogs.sap.com/2023/02/12/could-machine-learning-build-a-model-for-prime-numbers/   \n",
       "4                                                              https://blogs.sap.com/2023/04/19/hello-world-your-crafted-chat-gpt-bot/   \n",
       "5                                                           https://blogs.sap.com/2023/05/25/sap-machine-learning-embedding-in-openai/   \n",
       "6                                           https://blogs.sap.com/2023/07/14/building-trust-in-ai-youtube-transcript-openai-assistant/   \n",
       "\n",
       "  OK comments likes  views  \n",
       "0  Y        8    24  1,008  \n",
       "1  Y        1     7    746  \n",
       "2  Y        4    13  1,733  \n",
       "3  Y        0     3    679  \n",
       "4  Y        7     5  1,796  \n",
       "5  Y        7     5  1,468  \n",
       "6  Y        0     5  1,258  "
      ]
     },
     "execution_count": 8,
     "metadata": {},
     "output_type": "execute_result"
    }
   ],
   "source": [
    "pd.set_option('display.max_colwidth', None)\n",
    "bls.df_results"
   ]
  },
  {
   "cell_type": "code",
   "execution_count": 9,
   "id": "237e839f",
   "metadata": {},
   "outputs": [
    {
     "data": {
      "text/plain": [
       "url         object\n",
       "OK          object\n",
       "comments    object\n",
       "likes       object\n",
       "views       object\n",
       "dtype: object"
      ]
     },
     "execution_count": 9,
     "metadata": {},
     "output_type": "execute_result"
    }
   ],
   "source": [
    "bls.df_results.dtypes"
   ]
  },
  {
   "cell_type": "code",
   "execution_count": 10,
   "id": "73d57799",
   "metadata": {},
   "outputs": [],
   "source": [
    "bls.mt_convert_cols_to_int(['comments','likes','views'])"
   ]
  },
  {
   "cell_type": "code",
   "execution_count": 11,
   "id": "ba95163e",
   "metadata": {},
   "outputs": [
    {
     "data": {
      "text/html": [
       "<div>\n",
       "<style scoped>\n",
       "    .dataframe tbody tr th:only-of-type {\n",
       "        vertical-align: middle;\n",
       "    }\n",
       "\n",
       "    .dataframe tbody tr th {\n",
       "        vertical-align: top;\n",
       "    }\n",
       "\n",
       "    .dataframe thead th {\n",
       "        text-align: right;\n",
       "    }\n",
       "</style>\n",
       "<table border=\"1\" class=\"dataframe\">\n",
       "  <thead>\n",
       "    <tr style=\"text-align: right;\">\n",
       "      <th></th>\n",
       "      <th>url</th>\n",
       "      <th>OK</th>\n",
       "      <th>comments</th>\n",
       "      <th>likes</th>\n",
       "      <th>views</th>\n",
       "    </tr>\n",
       "  </thead>\n",
       "  <tbody>\n",
       "    <tr>\n",
       "      <th>0</th>\n",
       "      <td>https://blogs.sap.com/2022/11/07/sap-community-call-sap-hana-cloud-machine-learning-challenge-i-quit-how-to-prevent-employee-churn/</td>\n",
       "      <td>Y</td>\n",
       "      <td>8</td>\n",
       "      <td>24</td>\n",
       "      <td>1008</td>\n",
       "    </tr>\n",
       "    <tr>\n",
       "      <th>1</th>\n",
       "      <td>https://blogs.sap.com/2022/12/22/sap-hana-cloud-machine-learning-challenge-2022-the-winners-are/</td>\n",
       "      <td>Y</td>\n",
       "      <td>1</td>\n",
       "      <td>7</td>\n",
       "      <td>746</td>\n",
       "    </tr>\n",
       "    <tr>\n",
       "      <th>2</th>\n",
       "      <td>https://blogs.sap.com/2023/01/09/sap-hana-cloud-machine-learning-challenge-i-quit-understanding-metrics/</td>\n",
       "      <td>Y</td>\n",
       "      <td>4</td>\n",
       "      <td>13</td>\n",
       "      <td>1733</td>\n",
       "    </tr>\n",
       "    <tr>\n",
       "      <th>3</th>\n",
       "      <td>https://blogs.sap.com/2023/02/12/could-machine-learning-build-a-model-for-prime-numbers/</td>\n",
       "      <td>Y</td>\n",
       "      <td>0</td>\n",
       "      <td>3</td>\n",
       "      <td>679</td>\n",
       "    </tr>\n",
       "    <tr>\n",
       "      <th>4</th>\n",
       "      <td>https://blogs.sap.com/2023/04/19/hello-world-your-crafted-chat-gpt-bot/</td>\n",
       "      <td>Y</td>\n",
       "      <td>7</td>\n",
       "      <td>5</td>\n",
       "      <td>1796</td>\n",
       "    </tr>\n",
       "    <tr>\n",
       "      <th>5</th>\n",
       "      <td>https://blogs.sap.com/2023/05/25/sap-machine-learning-embedding-in-openai/</td>\n",
       "      <td>Y</td>\n",
       "      <td>7</td>\n",
       "      <td>5</td>\n",
       "      <td>1468</td>\n",
       "    </tr>\n",
       "    <tr>\n",
       "      <th>6</th>\n",
       "      <td>https://blogs.sap.com/2023/07/14/building-trust-in-ai-youtube-transcript-openai-assistant/</td>\n",
       "      <td>Y</td>\n",
       "      <td>0</td>\n",
       "      <td>5</td>\n",
       "      <td>1258</td>\n",
       "    </tr>\n",
       "  </tbody>\n",
       "</table>\n",
       "</div>"
      ],
      "text/plain": [
       "                                                                                                                                   url  \\\n",
       "0  https://blogs.sap.com/2022/11/07/sap-community-call-sap-hana-cloud-machine-learning-challenge-i-quit-how-to-prevent-employee-churn/   \n",
       "1                                     https://blogs.sap.com/2022/12/22/sap-hana-cloud-machine-learning-challenge-2022-the-winners-are/   \n",
       "2                             https://blogs.sap.com/2023/01/09/sap-hana-cloud-machine-learning-challenge-i-quit-understanding-metrics/   \n",
       "3                                             https://blogs.sap.com/2023/02/12/could-machine-learning-build-a-model-for-prime-numbers/   \n",
       "4                                                              https://blogs.sap.com/2023/04/19/hello-world-your-crafted-chat-gpt-bot/   \n",
       "5                                                           https://blogs.sap.com/2023/05/25/sap-machine-learning-embedding-in-openai/   \n",
       "6                                           https://blogs.sap.com/2023/07/14/building-trust-in-ai-youtube-transcript-openai-assistant/   \n",
       "\n",
       "  OK  comments  likes  views  \n",
       "0  Y         8     24   1008  \n",
       "1  Y         1      7    746  \n",
       "2  Y         4     13   1733  \n",
       "3  Y         0      3    679  \n",
       "4  Y         7      5   1796  \n",
       "5  Y         7      5   1468  \n",
       "6  Y         0      5   1258  "
      ]
     },
     "execution_count": 11,
     "metadata": {},
     "output_type": "execute_result"
    }
   ],
   "source": [
    "bls.df_results"
   ]
  },
  {
   "cell_type": "code",
   "execution_count": 12,
   "id": "54057f44",
   "metadata": {},
   "outputs": [
    {
     "data": {
      "text/plain": [
       "url         object\n",
       "OK          object\n",
       "comments      int8\n",
       "likes         int8\n",
       "views        int16\n",
       "dtype: object"
      ]
     },
     "execution_count": 12,
     "metadata": {},
     "output_type": "execute_result"
    }
   ],
   "source": [
    "bls.df_results.dtypes"
   ]
  },
  {
   "cell_type": "code",
   "execution_count": 13,
   "id": "25518833",
   "metadata": {},
   "outputs": [
    {
     "data": {
      "text/plain": [
       "{'df_ok_sum':     comments  likes  views\n",
       " OK                        \n",
       " Y         27     62   8688,\n",
       " 'df_ok_count':   OK  Count\n",
       " 0  Y      7}"
      ]
     },
     "execution_count": 13,
     "metadata": {},
     "output_type": "execute_result"
    }
   ],
   "source": [
    "ok_dict = bls.mt_calculate_totals()\n",
    "ok_dict"
   ]
  },
  {
   "cell_type": "code",
   "execution_count": 14,
   "id": "5556429e",
   "metadata": {},
   "outputs": [
    {
     "data": {
      "text/html": [
       "<div>\n",
       "<style scoped>\n",
       "    .dataframe tbody tr th:only-of-type {\n",
       "        vertical-align: middle;\n",
       "    }\n",
       "\n",
       "    .dataframe tbody tr th {\n",
       "        vertical-align: top;\n",
       "    }\n",
       "\n",
       "    .dataframe thead th {\n",
       "        text-align: right;\n",
       "    }\n",
       "</style>\n",
       "<table border=\"1\" class=\"dataframe\">\n",
       "  <thead>\n",
       "    <tr style=\"text-align: right;\">\n",
       "      <th></th>\n",
       "      <th>comments</th>\n",
       "      <th>likes</th>\n",
       "      <th>views</th>\n",
       "    </tr>\n",
       "    <tr>\n",
       "      <th>OK</th>\n",
       "      <th></th>\n",
       "      <th></th>\n",
       "      <th></th>\n",
       "    </tr>\n",
       "  </thead>\n",
       "  <tbody>\n",
       "    <tr>\n",
       "      <th>Y</th>\n",
       "      <td>27</td>\n",
       "      <td>62</td>\n",
       "      <td>8688</td>\n",
       "    </tr>\n",
       "  </tbody>\n",
       "</table>\n",
       "</div>"
      ],
      "text/plain": [
       "    comments  likes  views\n",
       "OK                        \n",
       "Y         27     62   8688"
      ]
     },
     "execution_count": 14,
     "metadata": {},
     "output_type": "execute_result"
    }
   ],
   "source": [
    "ok_dict['df_ok_sum']"
   ]
  },
  {
   "cell_type": "code",
   "execution_count": 15,
   "id": "3f2b7728",
   "metadata": {},
   "outputs": [
    {
     "data": {
      "text/html": [
       "<div>\n",
       "<style scoped>\n",
       "    .dataframe tbody tr th:only-of-type {\n",
       "        vertical-align: middle;\n",
       "    }\n",
       "\n",
       "    .dataframe tbody tr th {\n",
       "        vertical-align: top;\n",
       "    }\n",
       "\n",
       "    .dataframe thead th {\n",
       "        text-align: right;\n",
       "    }\n",
       "</style>\n",
       "<table border=\"1\" class=\"dataframe\">\n",
       "  <thead>\n",
       "    <tr style=\"text-align: right;\">\n",
       "      <th></th>\n",
       "      <th>OK</th>\n",
       "      <th>Count</th>\n",
       "    </tr>\n",
       "  </thead>\n",
       "  <tbody>\n",
       "    <tr>\n",
       "      <th>0</th>\n",
       "      <td>Y</td>\n",
       "      <td>7</td>\n",
       "    </tr>\n",
       "  </tbody>\n",
       "</table>\n",
       "</div>"
      ],
      "text/plain": [
       "  OK  Count\n",
       "0  Y      7"
      ]
     },
     "execution_count": 15,
     "metadata": {},
     "output_type": "execute_result"
    }
   ],
   "source": [
    "ok_dict['df_ok_count']"
   ]
  }
 ],
 "metadata": {
  "kernelspec": {
   "display_name": "Python 3 (ipykernel)",
   "language": "python",
   "name": "python3"
  },
  "language_info": {
   "codemirror_mode": {
    "name": "ipython",
    "version": 3
   },
   "file_extension": ".py",
   "mimetype": "text/x-python",
   "name": "python",
   "nbconvert_exporter": "python",
   "pygments_lexer": "ipython3",
   "version": "3.8.17"
  }
 },
 "nbformat": 4,
 "nbformat_minor": 5
}
